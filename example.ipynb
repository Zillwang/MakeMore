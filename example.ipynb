{
 "cells": [
  {
   "cell_type": "code",
   "execution_count": 1,
   "metadata": {},
   "outputs": [
    {
     "name": "stdout",
     "output_type": "stream",
     "text": [
      "Obtaining file:///C:/Users/wangziliang1/OneDrive%20-%20%E4%B8%8A%E6%B5%B7%E5%95%86%E6%B1%A4%E4%B8%B4%E6%B8%AF%E6%99%BA%E8%83%BD%E7%A7%91%E6%8A%80%E6%9C%89%E9%99%90%E5%85%AC%E5%8F%B8/work/MakeMoreNote: you may need to restart the kernel to use updated packages.\n",
      "\n",
      "  Installing build dependencies: started\n",
      "  Installing build dependencies: finished with status 'done'\n",
      "  Checking if build backend supports build_editable: started\n",
      "  Checking if build backend supports build_editable: finished with status 'done'\n",
      "  Getting requirements to build editable: started\n",
      "  Getting requirements to build editable: finished with status 'done'\n",
      "  Preparing editable metadata (pyproject.toml): started\n",
      "  Preparing editable metadata (pyproject.toml): finished with status 'done'\n",
      "Requirement already satisfied: openai in c:\\users\\wangziliang1\\appdata\\local\\miniconda3\\lib\\site-packages (from make-more==0.1.0) (1.91.0)\n",
      "Requirement already satisfied: tqdm in c:\\users\\wangziliang1\\appdata\\local\\miniconda3\\lib\\site-packages (from make-more==0.1.0) (4.66.5)\n",
      "Requirement already satisfied: asyncio in c:\\users\\wangziliang1\\appdata\\local\\miniconda3\\lib\\site-packages (from make-more==0.1.0) (3.4.3)\n",
      "Requirement already satisfied: anyio<5,>=3.5.0 in c:\\users\\wangziliang1\\appdata\\local\\miniconda3\\lib\\site-packages (from openai->make-more==0.1.0) (4.7.0)\n",
      "Requirement already satisfied: distro<2,>=1.7.0 in c:\\users\\wangziliang1\\appdata\\local\\miniconda3\\lib\\site-packages (from openai->make-more==0.1.0) (1.9.0)\n",
      "Requirement already satisfied: httpx<1,>=0.23.0 in c:\\users\\wangziliang1\\appdata\\local\\miniconda3\\lib\\site-packages (from openai->make-more==0.1.0) (0.28.1)\n",
      "Requirement already satisfied: jiter<1,>=0.4.0 in c:\\users\\wangziliang1\\appdata\\local\\miniconda3\\lib\\site-packages (from openai->make-more==0.1.0) (0.5.0)\n",
      "Requirement already satisfied: pydantic<3,>=1.9.0 in c:\\users\\wangziliang1\\appdata\\local\\miniconda3\\lib\\site-packages (from openai->make-more==0.1.0) (2.10.3)\n",
      "Requirement already satisfied: sniffio in c:\\users\\wangziliang1\\appdata\\local\\miniconda3\\lib\\site-packages (from openai->make-more==0.1.0) (1.3.1)\n",
      "Requirement already satisfied: typing-extensions<5,>=4.11 in c:\\users\\wangziliang1\\appdata\\local\\miniconda3\\lib\\site-packages (from openai->make-more==0.1.0) (4.12.2)\n",
      "Requirement already satisfied: colorama in c:\\users\\wangziliang1\\appdata\\local\\miniconda3\\lib\\site-packages (from tqdm->make-more==0.1.0) (0.4.6)\n",
      "Requirement already satisfied: idna>=2.8 in c:\\users\\wangziliang1\\appdata\\local\\miniconda3\\lib\\site-packages (from anyio<5,>=3.5.0->openai->make-more==0.1.0) (3.7)\n",
      "Requirement already satisfied: certifi in c:\\users\\wangziliang1\\appdata\\local\\miniconda3\\lib\\site-packages (from httpx<1,>=0.23.0->openai->make-more==0.1.0) (2024.7.4)\n",
      "Requirement already satisfied: httpcore==1.* in c:\\users\\wangziliang1\\appdata\\local\\miniconda3\\lib\\site-packages (from httpx<1,>=0.23.0->openai->make-more==0.1.0) (1.0.7)\n",
      "Requirement already satisfied: h11<0.15,>=0.13 in c:\\users\\wangziliang1\\appdata\\local\\miniconda3\\lib\\site-packages (from httpcore==1.*->httpx<1,>=0.23.0->openai->make-more==0.1.0) (0.14.0)\n",
      "Requirement already satisfied: annotated-types>=0.6.0 in c:\\users\\wangziliang1\\appdata\\local\\miniconda3\\lib\\site-packages (from pydantic<3,>=1.9.0->openai->make-more==0.1.0) (0.7.0)\n",
      "Requirement already satisfied: pydantic-core==2.27.1 in c:\\users\\wangziliang1\\appdata\\local\\miniconda3\\lib\\site-packages (from pydantic<3,>=1.9.0->openai->make-more==0.1.0) (2.27.1)\n",
      "Building wheels for collected packages: make-more\n",
      "  Building editable for make-more (pyproject.toml): started\n",
      "  Building editable for make-more (pyproject.toml): finished with status 'done'\n",
      "  Created wheel for make-more: filename=make_more-0.1.0-0.editable-py3-none-any.whl size=3899 sha256=336b00bab8f27aadd54aef3069b4ea104a834cd5cd3af5fa111c140b82a85611\n",
      "  Stored in directory: C:\\Users\\wangziliang1\\AppData\\Local\\Temp\\pip-ephem-wheel-cache-zet1801p\\wheels\\af\\84\\97\\69c528c7e9f791874d74962a6bcfd1551d83c8b478bb027b93\n",
      "Successfully built make-more\n",
      "Installing collected packages: make-more\n",
      "  Attempting uninstall: make-more\n",
      "    Found existing installation: make-more 0.1.0\n",
      "    Uninstalling make-more-0.1.0:\n",
      "      Successfully uninstalled make-more-0.1.0\n",
      "Successfully installed make-more-0.1.0\n"
     ]
    }
   ],
   "source": [
    "pip install -e ."
   ]
  },
  {
   "cell_type": "markdown",
   "metadata": {},
   "source": [
    "## reasoning model"
   ]
  },
  {
   "cell_type": "code",
   "execution_count": 1,
   "metadata": {},
   "outputs": [],
   "source": [
    "from MakeMore.make_more import MakeMoreAgent\n",
    "import os\n",
    "\n",
    "llm_configs = {\n",
    "    \"temp\": 0.7,\n",
    "    \"topp\": 0.9,\n",
    "    \"model_name\": \"yours\",\n",
    "    \"base_url\": \"yours\",\n",
    "    \"key\": \"EMPTY\",\n",
    "    \"stop_words\": []\n",
    "}\n",
    "    \n",
    "system_prompt = \"\"\"你是一个专业的助手，能够回答各种问题。\"\"\""
   ]
  },
  {
   "cell_type": "code",
   "execution_count": 2,
   "metadata": {},
   "outputs": [
    {
     "name": "stdout",
     "output_type": "stream",
     "text": [
      "初始化成功！\n"
     ]
    },
    {
     "data": {
      "text/plain": [
       "'<think>用户让我介绍一下自己，首先得说明我的身份，是字节跳动开发的AI助手。然后要提一下我的名字，豆包。接下来可以简单说一下我的功能，比如回答问题、提供信息、协助完成任务之类的。要保持语气友好，符合“简单介绍”的要求，不要太复杂。还要注意用口语化的表达，让用户觉得亲切。比如可以说“你好呀！我是豆包，是由字节跳动公司开发的人工智能助手。我可以帮你回答各种问题、提供实用信息，还能协助你完成一些任务，很高兴能为你服务～”这样应该符合用户的需求了。</think>你好呀！我是豆包，是由字节跳动公司开发的人工智能助手。  \\n\\n我能为你提供多种服务，比如解答各类问题、给出生活建议、协助学习工作，还能陪你聊天解闷。要是你有任何需求，都可以跟我说，我会尽力帮你解决～ (^_^)'"
      ]
     },
     "execution_count": 2,
     "metadata": {},
     "output_type": "execute_result"
    }
   ],
   "source": [
    "agent = MakeMoreAgent(llm_configs, system_prompt)\n",
    "print(\"初始化成功！\")\n",
    "\n",
    "result = await agent.chat(\"你好，请简单介绍一下自己。\")\n",
    "result"
   ]
  },
  {
   "cell_type": "code",
   "execution_count": 4,
   "metadata": {},
   "outputs": [
    {
     "name": "stdout",
     "output_type": "stream",
     "text": [
      "使用图片: t2.png\n"
     ]
    },
    {
     "data": {
      "text/plain": [
       "'<think>我现在需要描述用户提供的图片内容。首先，图片场景是在一辆汽车的内部，前排两个座位上坐着两个人。左边的人穿着黑色外套，里面是蓝色衣服，右手食指指向上方，指甲涂了红色，头发是棕色的，扎成了一个低马尾。右边的人穿着浅蓝色牛仔外套，里面是黑色高领毛衣，头发是黑色的，直长发。汽车的后排座椅是空的，后座中间有一个绿色的物品，可能是书包或者袋子。车窗外可以看到道路两旁的树木，左边的树木有绿叶，右边的树木没有叶子，应该是不同的季节或者树种。背景还有一些围栏和远处的景物，天气看起来是晴天，光线很好。两个人的目光都朝向对方，似乎在进行对话，左边的人可能在强调某个观点，右边的人在认真倾听。整体氛围比较日常，像是朋友或熟人之间的交谈。需要把这些元素组织起来，用清晰的顺序描述，从场景到人物，再到细节。</think>这张图片展示了**汽车内部前排座位上的两人对话场景**，整体氛围日常且有互动感。\\n\\n\\n### **场景与环境**  \\n画面主体是一辆行驶或停靠中的轿车内部，后排座椅为空（可见黑色皮革座椅和中间的绿色小物件，可能是背包或杂物）。车窗外是晴天的道路景象：左侧有带绿叶的树木，右侧是光秃秃的树干，路边有白色围栏，远处隐约可见开阔的田野或低矮建筑，光线明亮，说明天气晴朗。\\n\\n\\n### **人物细节**  \\n- **左侧人物**（驾驶位或副驾位，因视角未明确方向盘位置）：  \\n  留棕色低马尾，穿黑色短外套（内搭蓝色衣物），右手抬起，食指伸直指向斜上方（似在强调某个观点），指甲涂有红色指甲油。面部转向右侧，眼睛微眯，嘴唇轻抿，表情带点认真或调侃。  \\n- **右侧人物**（副驾或驾驶位）：  \\n  留黑色直长发，穿浅蓝色牛仔外套（内搭黑色高领毛衣），身体微微向左侧倾斜，目光注视左侧人物，嘴唇轻抿，表情专注，似在倾听对方说话。\\n\\n\\n### **互动与氛围**  \\n两人的注意力都集中在彼此身上，左侧人物的手势和右侧人物的姿态暗示他们正在进行**一场有交流感的对话**——可能是朋友间的闲聊、意见交换，或一方在向另一方强调某件事（比如提醒注意路况、分享小秘密等）。整体画面传递出自然、亲近的日常感。\\n\\n\\n总结来说，这是一幅捕捉日常瞬间的图片，通过人物的动作、表情和环境细节，还原了车内两人对话的生动场景。'"
      ]
     },
     "execution_count": 4,
     "metadata": {},
     "output_type": "execute_result"
    }
   ],
   "source": [
    "test_image = r\"t2.png\"\n",
    "if os.path.exists(test_image):\n",
    "    print(f\"使用图片: {test_image}\")\n",
    "    mm_result = await agent.mm_chat(\"这张图片是什么？请描述一下。\", test_image)\n",
    "\n",
    "mm_result"
   ]
  },
  {
   "cell_type": "markdown",
   "metadata": {},
   "source": [
    "# normal model"
   ]
  },
  {
   "cell_type": "code",
   "execution_count": 4,
   "metadata": {},
   "outputs": [],
   "source": [
    "from MakeMore.make_more import MakeMoreAgent\n",
    "import asyncio\n",
    "import os\n",
    "\n",
    "# 配置LLM参数\n",
    "llm_configs = {\n",
    "    \"temp\": 0.7,\n",
    "    \"topp\": 0.9,\n",
    "    \"model_name\": \"yours\",\n",
    "    \"base_url\": \"yours\",\n",
    "    \"key\": \"EMPTY\",\n",
    "    \"stop_words\": []\n",
    "}\n",
    "\n",
    "    \n",
    "system_prompt = \"\"\"你是一个专业的助手，能够回答各种问题。\"\"\""
   ]
  },
  {
   "cell_type": "code",
   "execution_count": 5,
   "metadata": {},
   "outputs": [
    {
     "name": "stdout",
     "output_type": "stream",
     "text": [
      "初始化成功！\n"
     ]
    },
    {
     "data": {
      "text/plain": [
       "'您好！我是一款由阿里云开发的超大规模语言模型，名叫通义千问。作为一个AI助手，我的主要功能是在如科技、文化、生活等领域提供帮助和支持。如果您有任何问题或需要帮助，欢迎随时向我提问！'"
      ]
     },
     "execution_count": 5,
     "metadata": {},
     "output_type": "execute_result"
    }
   ],
   "source": [
    "agent = MakeMoreAgent(llm_configs, system_prompt)\n",
    "print(\"初始化成功！\")\n",
    "\n",
    "result = await agent.chat(\"你好，请简单介绍一下自己。\")\n",
    "result"
   ]
  },
  {
   "cell_type": "markdown",
   "metadata": {},
   "source": [
    "## batch test"
   ]
  },
  {
   "cell_type": "code",
   "execution_count": 6,
   "metadata": {},
   "outputs": [
    {
     "name": "stdout",
     "output_type": "stream",
     "text": [
      "初始化成功！\n"
     ]
    },
    {
     "name": "stderr",
     "output_type": "stream",
     "text": [
      "processing: 100%|██████████| 2/2 [00:02<00:00,  1.43s/it]\n"
     ]
    },
    {
     "data": {
      "text/plain": [
       "['我是阿里云开发的一款超大规模语言模型，我叫通义千问。我可以生成各种类型的文本，如文章、故事、诗歌、故事等；可以根据给定的关键词或主题进行创作；可以回答各种问题，提供信息查询和知识解答服务；可以与用户进行对话，提供聊天和互动体验；还可以表达观点和发表评论，具有一定的推理和判断能力。',\n",
       " '你好！很高兴见到你。有什么我可以帮助你的吗？']"
      ]
     },
     "execution_count": 6,
     "metadata": {},
     "output_type": "execute_result"
    }
   ],
   "source": [
    "from MakeMore.make_more import MakeMoreAgent\n",
    "import asyncio\n",
    "import os\n",
    "\n",
    "# 配置LLM参数\n",
    "llm_configs = {\n",
    "    \"temp\": 0.7,\n",
    "    \"topp\": 0.9,\n",
    "    \"model_name\": \"yours\",\n",
    "    \"base_url\": \"yours\",\n",
    "    \"key\": \"EMPTY\",\n",
    "    \"stop_words\": []\n",
    "}\n",
    "\n",
    "    \n",
    "system_prompt = \"\"\"你是一个专业的助手，能够回答各种问题。\"\"\"\n",
    "agent = MakeMoreAgent(llm_configs, system_prompt)\n",
    "print(\"初始化成功！\")\n",
    "\n",
    "result = await agent.batch_chat([\"你好，请简单介绍一下自己。\",\"你好\"])\n",
    "result"
   ]
  },
  {
   "cell_type": "code",
   "execution_count": 7,
   "metadata": {},
   "outputs": [
    {
     "name": "stdout",
     "output_type": "stream",
     "text": [
      "初始化成功！\n"
     ]
    },
    {
     "name": "stderr",
     "output_type": "stream",
     "text": [
      "processing multimodal queries: 100%|██████████| 2/2 [00:04<00:00,  2.06s/it]\n"
     ]
    },
    {
     "data": {
      "text/plain": [
       "['这张图片显示了两个人坐在一辆车的前排。左边的人穿着黑色外套，手里拿着一个物品，似乎在说话或解释某事。右边的人穿着蓝色牛仔夹克，看起来在听对方讲话。车内的座椅是黑色的，通过车窗可以看到外面的道路和一些树木。背景显示天气晴朗，光线充足。',\n",
       " '这张图片显示了两个人在车内的情景。左边的人穿着黑色的外套和蓝色的衣服，手里拿着一个粉色的物品（看起来像是笔或手指甲油），似乎在向右边的人展示或解释什么。右边的人穿着浅蓝色的牛仔夹克，表情专注地听着左边的人说话。车内的座椅是黑色的，透过车窗可以看到外面的道路和一些树木，天气看起来晴朗。']"
      ]
     },
     "execution_count": 7,
     "metadata": {},
     "output_type": "execute_result"
    }
   ],
   "source": [
    "from MakeMore.make_more import MakeMoreAgent\n",
    "import asyncio\n",
    "import os\n",
    "\n",
    "# 配置LLM参数\n",
    "llm_configs = {\n",
    "    \"temp\": 0.7,\n",
    "    \"topp\": 0.9,\n",
    "    \"model_name\": \"yours\",\n",
    "    \"base_url\": \"yours\",\n",
    "    \"key\": \"EMPTY\",\n",
    "    \"stop_words\": []\n",
    "}\n",
    "\n",
    "    \n",
    "system_prompt = \"\"\"你是一个专业的助手，能够回答各种问题。\"\"\"\n",
    "agent = MakeMoreAgent(llm_configs, system_prompt)\n",
    "print(\"初始化成功！\")\n",
    "\n",
    "test_image = r\"t2.png\"\n",
    "queries = [{\"question\": \"描述一下这张图片的内容\", \"image_url\": test_image}]*2\n",
    "result = await agent.mm_batch_chat(queries)\n",
    "result"
   ]
  }
 ],
 "metadata": {
  "kernelspec": {
   "display_name": "base",
   "language": "python",
   "name": "python3"
  },
  "language_info": {
   "codemirror_mode": {
    "name": "ipython",
    "version": 3
   },
   "file_extension": ".py",
   "mimetype": "text/x-python",
   "name": "python",
   "nbconvert_exporter": "python",
   "pygments_lexer": "ipython3",
   "version": "3.12.3"
  }
 },
 "nbformat": 4,
 "nbformat_minor": 2
}
